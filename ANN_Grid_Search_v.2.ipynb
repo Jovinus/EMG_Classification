{
 "cells": [
  {
   "cell_type": "markdown",
   "metadata": {},
   "source": [
    "## Import Library"
   ]
  },
  {
   "cell_type": "code",
   "execution_count": 1,
   "metadata": {},
   "outputs": [
    {
     "name": "stderr",
     "output_type": "stream",
     "text": [
      "Using TensorFlow backend.\n"
     ]
    }
   ],
   "source": [
    "import os\n",
    "#os.environ[\"KERAS_BACKEND\"] = \"plaidml.keras.backend\" #for Mac\n",
    "os.environ[\"CUDA_VISIBLE_DEVICES\"]='0'\n",
    "#os.environ[\"CUDA_VISIBLE_DEVICES\"]='1'\n",
    "import keras\n",
    "from keras import backend as K\n",
    "import pandas as pd\n",
    "import numpy as np\n",
    "from sklearn.metrics import confusion_matrix\n",
    "from sklearn.preprocessing import StandardScaler\n",
    "from sklearn.model_selection import train_test_split\n",
    "import matplotlib.pyplot as plt"
   ]
  },
  {
   "cell_type": "markdown",
   "metadata": {},
   "source": [
    "## Load Data and Preprocessing"
   ]
  },
  {
   "cell_type": "code",
   "execution_count": 2,
   "metadata": {},
   "outputs": [],
   "source": [
    "data = pd.read_csv(\"./Processed_data_final_ver2.csv\")\n",
    "X_data = data.drop([\"label\",\"label2\"],axis=1)\n",
    "y_data = data[\"label2\"]\n",
    "\n",
    "import imblearn\n",
    "X_data, y_data = imblearn.under_sampling.RandomUnderSampler(sampling_strategy='majority', random_state=1004)\\\n",
    "    .fit_resample(X_data, y_data)\n",
    "\n",
    "y_data[y_data == \"four\"] = 1\n",
    "y_data[y_data == \"good\"] = 2\n",
    "y_data[y_data == \"gun\"] = 3\n",
    "y_data[y_data == \"okay\"] = 4\n",
    "y_data[y_data == \"one\"] = 5\n",
    "y_data[y_data == \"paper\"] = 6\n",
    "y_data[y_data == \"rock\"] = 7\n",
    "y_data[y_data == \"rest\"] = 0\n",
    "y_data[y_data == \"scissor\"] = 8\n",
    "y_data[y_data == \"three\"] = 9\n",
    "\n",
    "#%% Train Test Split\n",
    "X_train, X_test, y_train, y_test = train_test_split(X_data, y_data, test_size=0.1, stratify=y_data, random_state=1004)\n",
    "scaler = StandardScaler()\n",
    "scaler.fit(X_train)\n",
    "X_train_scaled = pd.DataFrame(scaler.transform(X_train))\n",
    "X_test_scaled = pd.DataFrame(scaler.transform(X_test))"
   ]
  },
  {
   "cell_type": "markdown",
   "metadata": {},
   "source": [
    "## Model"
   ]
  },
  {
   "cell_type": "code",
   "execution_count": 3,
   "metadata": {},
   "outputs": [],
   "source": [
    "def my_model(hidden_layer_num, node_size, batch_normalization, drop_out, drop_out_rate, learning_rate):\n",
    "    \n",
    "    ### clear memory\n",
    "    if K.backend() == 'tensorflow':\n",
    "        K.clear_session()\n",
    "    \n",
    "    model = keras.Sequential()\n",
    "\n",
    "    ### Input Layer\n",
    "    model.add(keras.layers.InputLayer(input_shape=(18,)))\n",
    "    \n",
    "    ### Hidden Layer\n",
    "    for i in range(hidden_layer_num):\n",
    "        model.add(keras.layers.Dense(node_size))\n",
    "        if batch_normalization: model.add(keras.layers.BatchNormalization())\n",
    "        model.add(keras.layers.ReLU())\n",
    "        if drop_out: model.add(keras.layers.Dropout(drop_out_rate))    \n",
    "    \n",
    "    ### Output Layer\n",
    "    model.add(keras.layers.Dense(10))\n",
    "    model.add(keras.layers.Softmax())\n",
    "    \n",
    "    ### Compile\n",
    "    model.compile(optimizer= keras.optimizers.Adam(learning_rate), \n",
    "                  loss='sparse_categorical_crossentropy', \n",
    "                  metrics=[\"accuracy\"])\n",
    "    \n",
    "    return model"
   ]
  },
  {
   "cell_type": "markdown",
   "metadata": {},
   "source": [
    "## Generate Keras Classifier and Grid_Search CV"
   ]
  },
  {
   "cell_type": "code",
   "execution_count": null,
   "metadata": {
    "scrolled": false
   },
   "outputs": [
    {
     "name": "stderr",
     "output_type": "stream",
     "text": [
      "C:\\Users\\user\\Anaconda3\\envs\\emg\\lib\\site-packages\\sklearn\\externals\\six.py:31: FutureWarning: The module is deprecated in version 0.21 and will be removed in version 0.23 since we've dropped support for Python 2.7. Please rely on the official version of six (https://pypi.org/project/six/).\n",
      "  \"(https://pypi.org/project/six/).\", FutureWarning)\n",
      "C:\\Users\\user\\Anaconda3\\envs\\emg\\lib\\site-packages\\sklearn\\externals\\joblib\\__init__.py:15: FutureWarning: sklearn.externals.joblib is deprecated in 0.21 and will be removed in 0.23. Please import this functionality directly from joblib, which can be installed with: pip install joblib. If this warning is raised when loading pickled models, you may need to re-serialize those models with scikit-learn 0.21+.\n",
      "  warnings.warn(msg, category=FutureWarning)\n"
     ]
    },
    {
     "data": {
      "application/vnd.jupyter.widget-view+json": {
       "model_id": "a7f0ada32dae4750b64922f6c6913c18",
       "version_major": 2,
       "version_minor": 0
      },
      "text/plain": [
       "HBox(children=(FloatProgress(value=0.0, max=3.0), HTML(value='')))"
      ]
     },
     "metadata": {},
     "output_type": "display_data"
    }
   ],
   "source": [
    "#%% Generate Keras Classifier\n",
    "from tqdm.notebook import tqdm \n",
    "#from tqdm import tqdm\n",
    "from keras.wrappers.scikit_learn import KerasClassifier\n",
    "import mglearn\n",
    "from matplotlib.pyplot import savefig\n",
    "\n",
    "model = KerasClassifier(build_fn=my_model, verbose=0)\n",
    "\n",
    "from sklearn.model_selection import GridSearchCV\n",
    "#from keras_tqdm import TQDMNotebookCallback\n",
    "\n",
    "\n",
    "df_result = pd.DataFrame()\n",
    "\n",
    "hidden_layer_num = [2, 3, 4]\n",
    "\n",
    "\n",
    "for i in tqdm(hidden_layer_num):\n",
    "      \n",
    "    parameter = {'hidden_layer_num' : [i], \n",
    "                 \"node_size\": [300, 600, 1000], \n",
    "                 'drop_out': [True], \n",
    "                 'batch_normalization' : [True], \n",
    "                 'drop_out_rate': [0.2, 0.3, 0.4], \n",
    "                 'learning_rate': [0.001], \n",
    "                 'epochs':[2000], \n",
    "                 'batch_size':[2**10], \n",
    "                 #'callbacks':[TQDMNotebookCallback()]\n",
    "                }\n",
    "    \n",
    "    grid_search = GridSearchCV(estimator= model, param_grid=parameter, n_jobs=1, cv=10)\n",
    "\n",
    "    # Grid Search \n",
    "    grid_search.fit(X_train_scaled, y_train)\n",
    "\n",
    "    # Test Score\n",
    "    ann_test_score = grid_search.score(X_test_scaled, y_test)\n",
    "    print(\"ANN Test Score hidden_layer_\" + str(i) + \" : {0}\".format(ann_test_score))\n",
    "\n",
    "    # Confusion Matrix\n",
    "    plt.rcParams['figure.figsize'] = (10, 10) #figure size\n",
    "    plt.rcParams.update({'axes.labelsize': 'large'}) #axes label size\n",
    "    \n",
    "    scores_image = mglearn.tools.heatmap(\n",
    "        confusion_matrix(np.array(y_test).astype('int'), grid_search.predict(X_test_scaled).astype('int')), \n",
    "        xlabel='Predicted label', \n",
    "        ylabel='Actual label', xticklabels=[0, 1, 2, 3, 4, 5, 6, 7, 8, 9], yticklabels=[0, 1, 2, 3, 4, 5, 6, 7, 8, 9], cmap='Blues', fmt=\"%d\")\n",
    "    \n",
    "    plt.title(\"ANN Confusion Matrix \" + \"hidden_layer_\" + str(i), fontsize=18)\n",
    "    plt.gca().invert_yaxis()\n",
    "    plt.colorbar(scores_image)\n",
    "    savefig(fname=\"ANN_Confusion_Matrix \" +  \"hidden_layer_\" + str(i) + \".png\")\n",
    "    plt.show()\n",
    "    \n",
    "    ## Without title\n",
    "    scores_image = mglearn.tools.heatmap(\n",
    "        confusion_matrix(np.array(y_test).astype('int'), grid_search.predict(X_test_scaled).astype('int')), \n",
    "        xlabel='Predicted label', \n",
    "        ylabel='Actual label', xticklabels=[0, 1, 2, 3, 4, 5, 6, 7, 8, 9], yticklabels=[0, 1, 2, 3, 4, 5, 6, 7, 8, 9], cmap='Blues', fmt=\"%d\")\n",
    "    \n",
    "    plt.gca().invert_yaxis()\n",
    "    plt.colorbar(scores_image)\n",
    "    savefig(fname=\"ANN_Confusion_Matrix \" +  \"hidden_layer_\" + str(i) + \"_notitle.png\")\n",
    "    plt.show()\n",
    "    \n",
    "    result = grid_search.cv_results_\n",
    "\n",
    "    df_result = df_result.append(pd.DataFrame(result), ignore_index=True)"
   ]
  },
  {
   "cell_type": "markdown",
   "metadata": {},
   "source": [
    "## Save Results"
   ]
  },
  {
   "cell_type": "code",
   "execution_count": null,
   "metadata": {},
   "outputs": [],
   "source": [
    "#%% Save Results\n",
    "    \n",
    "df_result.to_csv(\"./Result/ann_grid_result.csv\", encoding=\"CP949\", index=False)"
   ]
  },
  {
   "cell_type": "code",
   "execution_count": null,
   "metadata": {},
   "outputs": [],
   "source": []
  }
 ],
 "metadata": {
  "kernelspec": {
   "display_name": "Python 3",
   "language": "python",
   "name": "python3"
  },
  "language_info": {
   "codemirror_mode": {
    "name": "ipython",
    "version": 3
   },
   "file_extension": ".py",
   "mimetype": "text/x-python",
   "name": "python",
   "nbconvert_exporter": "python",
   "pygments_lexer": "ipython3",
   "version": "3.7.6"
  }
 },
 "nbformat": 4,
 "nbformat_minor": 4
}
